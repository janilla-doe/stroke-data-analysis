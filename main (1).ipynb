{
 "cells": [
  {
   "cell_type": "code",
   "execution_count": 3,
   "id": "46613047-b5c6-49f1-b563-f766cfb17627",
   "metadata": {},
   "outputs": [],
   "source": [
    "from dataset_module import load_dataset"
   ]
  },
  {
   "cell_type": "code",
   "execution_count": 5,
   "id": "775ae893-d970-4fbe-864d-80fcd194c889",
   "metadata": {},
   "outputs": [
    {
     "name": "stdout",
     "output_type": "stream",
     "text": [
      "{'Age': '78', 'Gender': 'Female', 'Hypertension': '0', 'Heart Disease': '0', 'Ever Married': '1', 'Work Type': 'Private', 'Residence Type': 'Rural', 'Average Glucose Level': '267.3', 'BMI': '36.2', 'Smoking Status': 'Formerly smoked', 'Physical Activity': 'Sedentary', 'Dietary Habits': 'Non-Vegetarian', 'Alcohol Consumption': '0', 'Chronic Stress': '0', 'Sleep Hours': '11', 'Family History of Stroke': '0', 'Education Level': 'Tertiary', 'Income Level': 'Middle', 'Stroke Risk Score': '88', 'Region': 'South', 'Stroke Occurrence': '0'}\n",
      "Total records: 172000\n"
     ]
    }
   ],
   "source": [
    "data = load_dataset(\"data.csv\")\n",
    "\n",
    "print(data[\"1\"]) \n",
    "print(\"Total records:\", len(data))\n"
   ]
  },
  {
   "cell_type": "code",
   "execution_count": 7,
   "id": "4a73ca89-40a0-4910-a42c-380223547bc2",
   "metadata": {},
   "outputs": [],
   "source": [
    "\n",
    "from query_module import (\n",
    "    query_smokers_with_hypertension_and_stroke,\n",
    "    query_heart_disease_with_stroke,\n",
    "    query_gender_based_hypertension_stroke\n",
    ")\n"
   ]
  },
  {
   "cell_type": "code",
   "execution_count": 9,
   "id": "2cf44b4f-8b0e-4680-91f3-b94dc64712a1",
   "metadata": {
    "scrolled": true
   },
   "outputs": [
    {
     "name": "stdout",
     "output_type": "stream",
     "text": [
      "Query 1: Smokers with hypertension and stroke\n",
      "{'Average Age': 54.52169525731584, 'Median Age': 55, 'Mode Age': 77}\n"
     ]
    }
   ],
   "source": [
    "#i.\tA function for computing the average age, modal age, median age of those who smoked and had hypertensions that resulted in stroke.\n",
    "\n",
    "print(\"Query 1: Smokers with hypertension and stroke\")\n",
    "output1 = query_smokers_with_hypertension_and_stroke(data)\n",
    "print(output1)"
   ]
  },
  {
   "cell_type": "code",
   "execution_count": null,
   "id": "00489502-4de1-407b-ab68-b248b1fbd721",
   "metadata": {},
   "outputs": [],
   "source": [
    "#ii.A function for computing the average age, modal age, median age, and average glucose level of those who had heart disease that resulted in stroke.\n",
    "print(\"\\nQuery 2: Heart disease with stroke\")\n",
    "output2 = query_heart_disease_with_stroke(data)\n",
    "print(output2)\n"
   ]
  },
  {
   "cell_type": "code",
   "execution_count": 11,
   "id": "af243d8e-0ab4-4706-b5bd-1e17d0f8ed6c",
   "metadata": {},
   "outputs": [
    {
     "name": "stdout",
     "output_type": "stream",
     "text": [
      "\n",
      "Query 3: Gender-based hypertension (stroke vs no stroke)\n",
      "Male_Stroke: {'Average Age': 54.20916162489196, 'Median Age': 55, 'Mode Age': 78}\n",
      "Female_Stroke: {'Average Age': 54.69126984126984, 'Median Age': 55.0, 'Mode Age': 29}\n",
      "Male_No_Stroke: {'Average Age': 54.00053797184614, 'Median Age': 54, 'Mode Age': 25}\n",
      "Female_No_Stroke: {'Average Age': 54.37022832679272, 'Median Age': 54.0, 'Mode Age': 88}\n"
     ]
    }
   ],
   "source": [
    "#iii.\tA function for computing the average age, modal age, median age of patients based on genders of those whose hypertensions resulted in stroke and of those whose hypertensions did not result in stroke.\n",
    "\n",
    "print(\"\\nQuery 3: Gender-based hypertension (stroke vs no stroke)\")\n",
    "output3 = query_gender_based_hypertension_stroke(data)\n",
    "for group, stats in output3.items():\n",
    "    print(f\"{group}: {stats}\")"
   ]
  },
  {
   "cell_type": "code",
   "execution_count": null,
   "id": "3810d340-0dbc-40cb-8fbc-a60628697a9d",
   "metadata": {},
   "outputs": [],
   "source": [
    "#iv.A function for computing the average age, modal age, median age of those whose smoking habits result in stroke and for those whose smoking habit did not result in stroke\n",
    "from query_module import query_smoking_and_stroke\n",
    "Query4 = query_smoking_and_stroke(data)\n",
    "for group, stats in Query4.items():\n",
    "    print(f\"{group}: {stats}\")\n"
   ]
  },
  {
   "cell_type": "code",
   "execution_count": null,
   "id": "0c607660-e942-450e-a30e-022564c520fe",
   "metadata": {},
   "outputs": [],
   "source": [
    "#v.A function for computing the average age, modal age, median age of those who lived in urban areas and for those in rural areas that had stroke.\n",
    "from query_module import query_stroke_by_residence\n",
    "\n",
    "result5 = query_stroke_by_residence(data)\n",
    "for group, stats in result5.items():\n",
    "    print(f\"{group}: {stats}\")\n"
   ]
  },
  {
   "cell_type": "code",
   "execution_count": null,
   "id": "fca0fb10-99d0-46b5-abe3-8d5befe09385",
   "metadata": {},
   "outputs": [],
   "source": [
    "#vi.A function to retrieve the dietary habit(s) of those who had stroke and those who did not have stroke.\n",
    "from query_module import query_dietary_habits_by_stroke\n",
    "\n",
    "result6 = query_dietary_habits_by_stroke(data)\n",
    "print(\"With Stroke:\", result6[\"With Stroke\"])\n",
    "print(\"Without Stroke:\", result6[\"Without Stroke\"])\n"
   ]
  },
  {
   "cell_type": "code",
   "execution_count": null,
   "id": "0b59a238-3129-4a89-841a-d7f508853bd8",
   "metadata": {},
   "outputs": [],
   "source": [
    "#vii.A function that returns anyone whose hypertension resulted in stroke.\n",
    "from query_module import query_hypertension_with_stroke\n",
    "\n",
    "records = query_hypertension_with_stroke(data)\n",
    "print(f\"Found {len(records)} patients with hypertension and stroke.\")\n",
    "for row in records[:5]:  \n",
    "    print(row)\n"
   ]
  },
  {
   "cell_type": "code",
   "execution_count": null,
   "id": "10a6e69f-8e9b-46a3-af7d-389d7f1812dc",
   "metadata": {},
   "outputs": [],
   "source": [
    "#viii.A function to retrieve those who hypertension did not result in stroke and those whose hypertension resulted in stroke\n",
    "from query_module import query_hypertension_stroke_split\n",
    "\n",
    "results = query_hypertension_stroke_split(data)\n",
    "print(\"With Stroke:\", len(results[\"With Stroke\"]))\n",
    "print(\"Without Stroke:\", len(results[\"Without Stroke\"]))\n"
   ]
  },
  {
   "cell_type": "code",
   "execution_count": null,
   "id": "43094099-9dec-42f7-94a1-68264704abbf",
   "metadata": {},
   "outputs": [],
   "source": [
    "#ix.A function that returns everyone with heart disease with stroke.\n",
    "from query_module import query_heart_disease_with_stroke_records\n",
    "\n",
    "heart_stroke_records = query_heart_disease_with_stroke_records(data)\n",
    "print(f\"Total patients with heart disease and stroke: {len(heart_stroke_records)}\")\n",
    "for row in heart_stroke_records[:3]: \n",
    "    print(row)\n",
    "\n"
   ]
  },
  {
   "cell_type": "code",
   "execution_count": null,
   "id": "c88842d3-3bbf-45f7-9448-f4a48dd4fdff",
   "metadata": {},
   "outputs": [],
   "source": [
    "#x.\tA function that returns the descriptive statistics of any of the features of the dataset.\n",
    "#This function should ask for which feature to analyse and then return the statistics. The descriptive statistics are mean, standard deviation, minimum, maximum, 25%, 50%, and 75%. \n",
    "from query_module import descriptive_statistics\n",
    "\n",
    "feature = input(\"Enter the feature/column name to analyze (e.g. 'Age', 'BMI'): \")\n",
    "stats = descriptive_statistics(data, feature)\n",
    "\n",
    "if stats:\n",
    "    print(\"\\nDescriptive Statistics:\")\n",
    "    for k, v in stats.items():\n",
    "        print(f\"{k}: {v}\")\n"
   ]
  },
  {
   "cell_type": "code",
   "execution_count": null,
   "id": "ab29737f-bc83-40ed-8030-9d1bf78d5206",
   "metadata": {},
   "outputs": [],
   "source": [
    "#xi.A function to retrieve the average sleep hours of those who had stroke and those who did not have stroke\n",
    "from query_module import query_average_sleep_by_stroke\n",
    "\n",
    "sleep_stats = query_average_sleep_by_stroke(data)\n",
    "for group, value in sleep_stats.items():\n",
    "    print(f\"{group}: {value}\")\n"
   ]
  },
  {
   "cell_type": "code",
   "execution_count": null,
   "id": "49ed9511-f5c7-413e-bb4d-f1616d3eccc0",
   "metadata": {},
   "outputs": [
    {
     "name": "stdout",
     "output_type": "stream",
     "text": [
      ">> Loading the stroke dataset...\n",
      " Dataset loaded successfully. Ready to analyze!\n",
      "\n",
      "=== Stroke Data Analysis Menu ===\n",
      "1. Smokers + Hypertension + Stroke Analysis\n",
      "2. Heart Disease and Stroke\n",
      "3. Gender-wise Hypertension and Stroke\n",
      "4. Smoking Habits Comparison\n",
      "5. Residence (Urban/Rural) Stroke Cases\n",
      "6. Dietary Habits (Stroke vs No Stroke)\n",
      "7. Hypertension Resulted in Stroke\n",
      "8. Hypertension Patients: Stroke vs No Stroke\n",
      "9. Full Records: Heart Disease and Stroke\n",
      "10. Descriptive Stats for Selected Feature\n",
      "11. Sleep Hours Comparison (Stroke/No Stroke)\n",
      "0. Exit\n"
     ]
    },
    {
     "name": "stdin",
     "output_type": "stream",
     "text": [
      "Pick a query number (or 0 to quit):  1\n"
     ]
    },
    {
     "name": "stdout",
     "output_type": "stream",
     "text": [
      "\n",
      "[Running Query 1]\n",
      "{'Average Age': 54.52169525731584, 'Median Age': 55, 'Mode Age': 77}\n",
      "\n",
      "=== Stroke Data Analysis Menu ===\n",
      "1. Smokers + Hypertension + Stroke Analysis\n",
      "2. Heart Disease and Stroke\n",
      "3. Gender-wise Hypertension and Stroke\n",
      "4. Smoking Habits Comparison\n",
      "5. Residence (Urban/Rural) Stroke Cases\n",
      "6. Dietary Habits (Stroke vs No Stroke)\n",
      "7. Hypertension Resulted in Stroke\n",
      "8. Hypertension Patients: Stroke vs No Stroke\n",
      "9. Full Records: Heart Disease and Stroke\n",
      "10. Descriptive Stats for Selected Feature\n",
      "11. Sleep Hours Comparison (Stroke/No Stroke)\n",
      "0. Exit\n"
     ]
    }
   ],
   "source": [
    "#xii.The outputs of any of these functions should be persisted into an external file in csv format\n",
    "import sys\n",
    "import os\n",
    "sys.path.append(os.getcwd())\n",
    "\n",
    "# Import and run the interactive UI\n",
    "from ui_module import run_ui\n",
    "\n",
    "run_ui()\n"
   ]
  },
  {
   "cell_type": "code",
   "execution_count": null,
   "id": "5320bf2c-a418-4224-9700-042cac39b09f",
   "metadata": {},
   "outputs": [],
   "source": []
  }
 ],
 "metadata": {
  "kernelspec": {
   "display_name": "Python [conda env:base] *",
   "language": "python",
   "name": "conda-base-py"
  },
  "language_info": {
   "codemirror_mode": {
    "name": "ipython",
    "version": 3
   },
   "file_extension": ".py",
   "mimetype": "text/x-python",
   "name": "python",
   "nbconvert_exporter": "python",
   "pygments_lexer": "ipython3",
   "version": "3.12.7"
  }
 },
 "nbformat": 4,
 "nbformat_minor": 5
}
